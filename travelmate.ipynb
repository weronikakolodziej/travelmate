{
  "cells": [
    {
      "cell_type": "code",
      "execution_count": null,
      "metadata": {
        "id": "dEiWH0U59svG"
      },
      "outputs": [],
      "source": [
        "# Assume the user has provided their Hugging Face token in a variable named `hf_token`\n",
        "# If you have the actual values for REDDIT_CLIENT_ID and REDDIT_CLIENT_SECRET,\n",
        "# you can replace the placeholder strings below.\n",
        "# Otherwise, the application might run in mockup mode if designed to do so.\n",
        "\n",
        "import os\n",
        "\n",
        "os.environ['HUGGING_FACE_HUB_TOKEN'] = \"\"\n",
        "os.environ['REDDIT_CLIENT_ID'] = \"\"  # Replace with actual client ID\n",
        "os.environ['REDDIT_CLIENT_SECRET'] = \"\" # Replace with actual client secret\n",
        "os.environ['REDDIT_USER_AGENT'] = \"travelmate v1 (by /u/weronikakolodziej)\"\n",
        "os.environ['GOOGLE_MAPS_API_KEY='] = \"\""
      ]
    },
    {
      "cell_type": "code",
      "execution_count": null,
      "metadata": {
        "colab": {
          "base_uri": "https://localhost:8080/"
        },
        "collapsed": true,
        "id": "_03WXMqs25mB",
        "outputId": "2cbf4a1b-630c-4e8d-a141-54d0dbebccef"
      },
      "outputs": [],
      "source": [
        "# prompt: writ ecode to clone this repo,Create and activate a virtual environment,  install requirements pip install -r requirements.txt and instructions from readme: ```bash\n",
        "# export REDDIT_CLIENT_ID=\"your_client_id\"\n",
        "# export REDDIT_CLIENT_SECRET=\"your_client_secret\"\n",
        "# export REDDIT_USER_AGENT=\"TravelMate Lite AI v1.0\" (cn be skipped to run in mockup mode,  (, export huggingface token passed in form by an user, run app\n",
        "\n",
        "!git clone https://github.com/weronikakolodziej/travelmate.git\n",
        "%cd travelmate\n",
        "\n",
        "!python3 -m venv venv\n",
        "!source venv/bin/activate\n",
        "!pip install -r requirements.txt\n"
      ]
    },
    {
      "cell_type": "code",
      "execution_count": null,
      "metadata": {
        "colab": {
          "base_uri": "https://localhost:8080/"
        },
        "id": "vVX7KsPA8Ir8",
        "outputId": "e9eb1792-8b0f-4ca5-f321-fdfabdb4d338"
      },
      "outputs": [],
      "source": [
        "# Run the application - assuming the main script is named app.py\n",
        "!python app.py"
      ]
    },
    {
      "cell_type": "markdown",
      "metadata": {
        "id": "MsTOOhAO8FN2"
      },
      "source": []
    }
  ],
  "metadata": {
    "accelerator": "GPU",
    "colab": {
      "gpuType": "T4",
      "provenance": [],
      "toc_visible": true
    },
    "kernelspec": {
      "display_name": "Python 3",
      "name": "python3"
    },
    "language_info": {
      "name": "python"
    }
  },
  "nbformat": 4,
  "nbformat_minor": 0
}
